{
 "cells": [
  {
   "cell_type": "markdown",
   "id": "3cccb0301d36a2d6",
   "metadata": {},
   "source": [
    "# Classes and objects in Python.\n",
    "\n",
    "In this lab, you will learn how to create classes and objects in Python. This will be crucial for understanding the interface of data-oriented Python libraries we will be using later, such as `pandas`, `numpy`, and `scikit-learn`. You will also learn how to use the Python `random` module to simulate random events. We will create classes that represent simple games and random processes.\n",
    "\n",
    "---\n",
    "\n",
    "## Quick introduction to the Python `random` module\n",
    "\n",
    "The Python standard library includes a module called `random` that provides functions for generating pseudorandom numbers. To complete the exercises in this notebook, you may want to learn the following functions:"
   ]
  },
  {
   "cell_type": "code",
   "execution_count": 1,
   "id": "58d0008be022ae69",
   "metadata": {},
   "outputs": [
    {
     "name": "stdout",
     "output_type": "stream",
     "text": [
      "The output of random.random() is: 0.5373903734627434\n",
      "The output of random.randint(0, 100) is: 5\n"
     ]
    }
   ],
   "source": [
    "import random\n",
    "\n",
    "random.random() # returns a random float between 0 and 1\n",
    "print('The output of random.random() is:', random.random())\n",
    "\n",
    "random.randint(0, 100) # returns a random integer between 0 and 100\n",
    "print('The output of random.randint(0, 100) is:', random.randint(0, 100))"
   ]
  },
  {
   "cell_type": "code",
   "execution_count": 2,
   "id": "90b5523a205d1593",
   "metadata": {},
   "outputs": [
    {
     "name": "stdout",
     "output_type": "stream",
     "text": [
      "Tonight we will watch ['How High']\n"
     ]
    }
   ],
   "source": [
    "movies = [\n",
    "    'Taxi Driver',\n",
    "    'Cars 3',\n",
    "    'How High',\n",
    "    'The Seventh Seal',\n",
    "    'Mean Girls',\n",
    "]\n",
    "\n",
    "random_movie = random.choices(movies, k=1) # returns k random elements from the list (as a list)\n",
    "print('Tonight we will watch', random_movie)"
   ]
  },
  {
   "cell_type": "code",
   "execution_count": 3,
   "id": "8665fb947feb541c",
   "metadata": {},
   "outputs": [
    {
     "name": "stdout",
     "output_type": "stream",
     "text": [
      "Eww, I would rather watch ['Cars 3']\n"
     ]
    }
   ],
   "source": [
    "movie_preferences = {\n",
    "    'Taxi Driver': 0.1,\n",
    "    'Cars 3': 0.4,\n",
    "    'How High': 0.2,\n",
    "    'The Seventh Seal': 0,\n",
    "    'Mean Girls': 0.3 \n",
    "}\n",
    "\n",
    "movies = list(movie_preferences.keys())\n",
    "probabilities = list(movie_preferences.values())\n",
    "\n",
    "random.choices(movies, probabilities, k=1) # returns k random elements from the list based on the probabilities given in a separate list\n",
    "print('Eww, I would rather watch', random.choices(movies, probabilities))"
   ]
  },
  {
   "cell_type": "markdown",
   "id": "9b9ada932365520c",
   "metadata": {},
   "source": [
    "## Exercise: Fair dice\n",
    "\n",
    "1. Implement a class called `Die` that represents a fair six-sided die. The class should have the methods:\n",
    "    * `roll` that simulates rolling the die and returns the result as an **integer.**\n",
    "    * `roll_dice` that takes an argument `n`, simulates rolling $n$ identical dice and **returns a list of $n$ integers.**"
   ]
  },
  {
   "cell_type": "code",
   "execution_count": 4,
   "id": "3d1c4f8c2cfd30a2",
   "metadata": {},
   "outputs": [],
   "source": [
    "class Die:\n",
    "    \n",
    "    def roll(self):\n",
    "        return random.randint(1,6)\n",
    "    \n",
    "    def roll_dice(self, n):\n",
    "        value_list = []\n",
    "        for i in range(n):\n",
    "            value_list.append(self.roll())\n",
    "        return value_list"
   ]
  },
  {
   "cell_type": "code",
   "execution_count": 5,
   "id": "e390960f8be0d50c",
   "metadata": {},
   "outputs": [
    {
     "name": "stdout",
     "output_type": "stream",
     "text": [
      "Rolling a die: 6\n",
      "Rolling 5 dice: [1, 5, 3, 1, 1]\n"
     ]
    }
   ],
   "source": [
    "# test your implementation\n",
    "\n",
    "die = Die()\n",
    "print('Rolling a die:', die.roll())\n",
    "print('Rolling 5 dice:', die.roll_dice(5))"
   ]
  },
  {
   "cell_type": "markdown",
   "id": "92d64c9c965c9e15",
   "metadata": {},
   "source": [
    "## Exercise: Unfair dice\n",
    "\n",
    "Implement a class representing an unfair die (one that does not have an equal probability of landing on each of its sides). **The probabilities of rolling each face should be set by the user when creating a die object** by passing a parameter `probs`, a list of six positive floats summing to one.\n",
    "   \n",
    "You can create the `__init__` method to take the `probs` parameter and save it to an **attribute**. The `__init__` method, known as a **constructor**, is called only once when an object is created. It is a good place to set the initial state of the object, such as the probabilities of rolling each face of the die.\n",
    "\n",
    "1. Implement a class called `UnfairDie` that represents an unfair six-sided die. The class will be very similar to the `Die` class from the previous exercise, so you can use it as a starting point. It should include all the methods from the `Die` class, but the `roll` method should now return a face of the die based on the probabilities given in the `probs` parameter."
   ]
  },
  {
   "cell_type": "code",
   "execution_count": 24,
   "id": "5cb542716cddc71d",
   "metadata": {},
   "outputs": [],
   "source": [
    "class UnfairDie():\n",
    "    def __init__(self, probs = [1/6, 1/6, 1/6, 1/6, 1/6, 1/6]):\n",
    "        self.probs = probs\n",
    "        if round(sum(self.probs),2) != 1:\n",
    "            raise ValueError(\"Probs must sum to 1\")\n",
    "        self.values = [1,2,3,4,5,6]\n",
    "\n",
    "    def roll(self):\n",
    "        return random.choices(self.values, self.probs, k=1)\n",
    "\n",
    "    def roll_dice(self, n):\n",
    "        value_list = []\n",
    "        for i in range(n):\n",
    "            value_list.append(self.roll())\n",
    "        return value_list\n",
    "        "
   ]
  },
  {
   "cell_type": "code",
   "execution_count": 7,
   "id": "261f68646a35a441",
   "metadata": {},
   "outputs": [
    {
     "name": "stdout",
     "output_type": "stream",
     "text": [
      "Rolling a die: [2]\n",
      "Rolling 5 dice: [[4], [5], [6], [2], [6]]\n"
     ]
    }
   ],
   "source": [
    "# test your implementation\n",
    "probab = [1/12,2/12,1/12,1/12,1/12,1/2]\n",
    "die = UnfairDie(probab)\n",
    "print('Rolling a die:', die.roll())\n",
    "print('Rolling 5 dice:', die.roll_dice(5))"
   ]
  },
  {
   "cell_type": "markdown",
   "id": "b309ee9cf6948df5",
   "metadata": {},
   "source": [
    "## Rewriting the Die class with inheritance\n",
    "\n",
    "In the previous exercises, you implemented the `Die` class and the `UnfairDie` class. The `UnfairDie` class is very similar to the `Die` class, but includes the `__init__` method and is a more general version of the `Die` class. This may be a good example of when to use **inheritance** in object-oriented programming.\n",
    "\n",
    "Inheritance is a mechanism in which one class acquires the attributes and methods of another class. The class that inherits the properties of another class is called a **subclass** or **derived class**, and the class whose properties are inherited is called a **superclass** or **base class**.\n",
    "\n",
    "In Python, you can inherit from a class by passing the superclass as an argument to the class definition. We will create a new class called `Die` that inherits from the `UnfairDie` class. This way, we do not have to reimplement the `roll` and `roll_dice` methods, as they are already implemented in the `UnfairDie` class. **Remember that if you implement a method in a subclass that already exists in the superclass, the new method will override the old one.**\n",
    "\n",
    "**The main advantage of inheritance is that it allows us to reuse the code from the superclass and avoid code duplication.** For example, if we were to add a new method to the `UnfairDie` class, the `Die` class would automatically inherit this method, and we would not have to touch the `Die` class at all.\n",
    "\n",
    "In a subclass, we can call the constructor of the superclass using the `super()` function. For example, in the case of a fair die, we can call the constructor of the `UnfairDie` class with equal probabilities for each face.\n",
    "\n"
   ]
  },
  {
   "cell_type": "code",
   "execution_count": 8,
   "id": "68504901a25af8cd",
   "metadata": {},
   "outputs": [
    {
     "name": "stdout",
     "output_type": "stream",
     "text": [
      "Rolling a die: [5]\n",
      "Rolling 5 dice: [[3], [2], [3], [3], [1]]\n"
     ]
    }
   ],
   "source": [
    "class Die(UnfairDie):\n",
    "    def __init__(self):\n",
    "        super().__init__(probs=[1/6, 1/6, 1/6, 1/6, 1/6, 1/6]) # calling the constructor of the superclass, passing equal probabilities for each face\n",
    "        \n",
    "# checking if the Die class still works\n",
    "die = Die()\n",
    "print('Rolling a die:', die.roll())\n",
    "print('Rolling 5 dice:', die.roll_dice(5))"
   ]
  },
  {
   "cell_type": "markdown",
   "id": "ded12c174602fd03",
   "metadata": {},
   "source": [
    "## Exercise: Entropy\n",
    "\n",
    "Entropy is a measure of **uncertainity** or **randomness** in a random variable. \n",
    "You may have already heard about entropy in the context of thermodynamics, and if you did, you may see how those are related!\n",
    "The entropy of a discrete random variable $X$ with probability distribution $p(x)$ is defined as:\n",
    "$$H(X) = -\\sum_{x} p(x) \\log_2 p(x)$$\n",
    "Entropy is a **weighted average of the information content** of each possible value of $X$, where the weight is the **probability** of that value.\n",
    "The formula can also be written in a way which conveys the intuition behind it more clearly:\n",
    "$$H(X) = \\sum_{x} p(x) * \\log_2 \\frac{1}{p(x)}$$\n",
    "\n",
    "### Let's break it down:\n",
    "\n",
    "The term: $$\\log_2 \\frac{1}{p(x)}$$ is the **information content** or **surprisal** of the value $x$. For **high probability events** (such as the sun rising tomorrow) the surprisal is **low** (we get no new information about the system by observing the exact same sunrise for the 100th time), with $\\log_2 \\frac{1}{p(x)} = 0$ when $p(x) = 1$. For **low probability events**, such as your homework assignment being published in Nature, the surprisal is **high**, and $\\log_2 \\frac{1}{p(x)}$ goes to infinity as $p(x)\\to 0$. The graph below illustrates how the information content of an event $x$ changes for different values of $p(x)$.\n",
    "\n",
    "<center>\n",
    "<img src=\"imgs/surprisal.png\" width=400>\n",
    "</center>\n",
    "<br/><br/>\n",
    "\n",
    "Now, entropy is the **average surprisal** of the random variable weighted by the probability of event $x$, thus in the formula it is multiplied by $p(x)$. \n",
    "\n",
    "If you do not immediately see how this relates to the concept of a weighted average, note that $p(x) \\le 1$ and $\\sum_{x}{}{p(x)} = 1$. \n",
    "\n",
    "Hopefully, you can see that the formula for entropy satisfies some of our expectations when it comes to measuring surprisal of a random event.\n",
    "  \n",
    "Let's take a look at an example. The entropy of a fair coin, where $p(\\text{heads})=0.5$ and $p(\\text{tails})=0.5$, is 1 bit:\n",
    "$$H(\\text{coin}) = p(\\text{heads}) \\log_2\\frac{1}{p(\\text{heads})} + p(\\text{tails}) \\log_2\\frac{1}{p(\\text{tails})}$$\n",
    "$$= 0.5*\\log_2\\frac{1}{0.5} + 0.5*\\log_2\\frac{1}{0.5} = 1$$\n",
    "while a coin that always lands heads has an entropy of 0 bits:\n",
    "$$H(\\text{coin}) = 1*\\log_2\\frac{1}{1} = 0$$\n",
    "<br/>\n",
    "\n",
    "1. Implement a method called `entropy` that calculates and returns the entropy of a die to the `UnfairDie` class from the previous exercise. How does the entropy of a fair die compare to the entropy of an unfair die with the probabilities $[0.1, 0.1, 0.1, 0.25, 0.15, 0.3]$? **Be sure to return a valid entropy value even if some of the probabilities are zero.**"
   ]
  },
  {
   "cell_type": "code",
   "execution_count": 31,
   "id": "b3ff982135a3d22a",
   "metadata": {},
   "outputs": [
    {
     "name": "stdout",
     "output_type": "stream",
     "text": [
      "2.584962500721156\n"
     ]
    }
   ],
   "source": [
    "# your code here\n",
    "probab = [1/6,1/6,1/6,1/6,1/6,1/6]\n",
    "import numpy as np\n",
    "def entropy(UnfairDie):\n",
    "    entsum = 0\n",
    "    for prob in UnfairDie.probs:\n",
    "        if prob != 0:\n",
    "            entsum += prob * np.log2(1/prob)\n",
    "    return entsum\n",
    "print(entropy(UnfairDie(probab)))"
   ]
  },
  {
   "cell_type": "markdown",
   "id": "99640f4b1ebc48b1",
   "metadata": {},
   "source": [
    "## Exercise: Plotting averages of dice rolls\n",
    "\n",
    "1. Create a function called `get_average`. The function should take a `Die` (or `UnfairDie`) object and a number of dice to roll $n$ as arguments. The function should return the mean result of rolling $n$ dice.\n",
    "\n",
    "2. Create a function called `get_n_averages`. The function should take a `Die` (or `UnfairDie`) object, a number of dice to roll $n$, and the number of times to repeat the experiment $k$. The function should roll $n$ dice $k$ times and return a list of $k$ mean results.\n",
    "\n",
    "3. Plot a histogram of the results of rolling $n = 10$ fair dice $k = 50$, $1000$ and $10 000$ times. The function `plot_means` which plots the histogram from a list of numbers is already implemented by me, and can be used out of the box. **You will learn how to prepare plots like this with seaborn and pyplot during the next labs**. What shape does this distribution converge to as the number of trials increases? Conduct the same experiment for unfair dice with probabilities $[0.1, 0.1, 0.1, 0.25, 0.15, 0.3]$ and try to draw some conclusions."
   ]
  },
  {
   "cell_type": "code",
   "execution_count": 41,
   "id": "de5286b09f587b86",
   "metadata": {},
   "outputs": [
    {
     "name": "stdout",
     "output_type": "stream",
     "text": [
      "3.6\n"
     ]
    }
   ],
   "source": [
    "def get_average(UnfairDie, n):\n",
    "    random_roll = 0\n",
    "    for i in range(n):\n",
    "        random_roll += UnfairDie.roll()[0]\n",
    "    return random_roll/n\n",
    "print(get_average(UnfairDie(probab), 5))"
   ]
  },
  {
   "cell_type": "code",
   "execution_count": 44,
   "id": "17479113493007a4",
   "metadata": {},
   "outputs": [
    {
     "name": "stdout",
     "output_type": "stream",
     "text": [
      "[3.8, 3.0, 4.6, 3.0, 4.2]\n"
     ]
    }
   ],
   "source": [
    "def get_n_averages(UnfairDie, n, k):\n",
    "    random_roll_list = []\n",
    "    for j in range(k):\n",
    "        random_roll_list.append(get_average(UnfairDie, n))\n",
    "    return random_roll_list\n",
    "print(get_n_averages(UnfairDie(probab), 5, 5))"
   ]
  },
  {
   "cell_type": "code",
   "execution_count": 50,
   "id": "f5fa85db85e03126",
   "metadata": {},
   "outputs": [
    {
     "data": {
      "image/png": "[encoded data removed]",
      "text/plain": [
       "<Figure size 640x480 with 1 Axes>"
      ]
     },
     "metadata": {},
     "output_type": "display_data"
    },
    {
     "data": {
      "image/png": "[encoded data removed]",
      "text/plain": [
       "<Figure size 640x480 with 1 Axes>"
      ]
     },
     "metadata": {},
     "output_type": "display_data"
    },
    {
     "data": {
      "image/png": "[encoded data removed]",
      "text/plain": [
       "<Figure size 640x480 with 1 Axes>"
      ]
     },
     "metadata": {},
     "output_type": "display_data"
    }
   ],
   "source": [
    "from helpers.plotting import plot_hist\n",
    "import warnings # This library is used to ignore warnings, don't worry about it for now\n",
    "warnings.filterwarnings('ignore')\n",
    "probab = [0.1,0.1,0.1,0.25,0.15,0.3]\n",
    "results50 = get_n_averages(UnfairDie(probab), 10, 50)\n",
    "plot_hist(results50)\n",
    "results1000 = get_n_averages(UnfairDie(probab), 10, 1000)\n",
    "plot_hist(results1000)\n",
    "results10000 = get_n_averages(UnfairDie(probab), 10, 10000)\n",
    "plot_hist(results10000)"
   ]
  },
  {
   "cell_type": "markdown",
   "id": "8d83cb6fdfde6932",
   "metadata": {},
   "source": [
    "## Excercise: Pachinko\n",
    "\n",
    "Pachinko is a Japanese gambling game played on a vertical board. The board has pegs protruding from the surface and the player has to drop a ball from the top. The ball bounces off the pegs and can land in one of specially designated pockets. The pockets have different values and the prize is determined by the pocket in which the ball lands.\n",
    "\n",
    "<center>\n",
    "    <p float=\"left\">\n",
    "        <img src=\"imgs/pachinko1.jpg\", width=300>\n",
    "        <img src=\"imgs/pachinko.png\", width=450>\n",
    "    </p>\n",
    "</center>\n",
    "\n",
    "The figure above shows an actual pachinko machine (left) and a simplified version of a pachinko board (right). **Assume the ball has an equal chance of bouncing either left or right off each peg.**\n",
    "\n",
    "One can simulate the results of such a game in many ways. One example is by assigning a value of 0 to each left bounce and 1 to each right bounce. As the ball falls through $n$ rows, its final position (bin index) is determined by the sum of the values in each row.\n",
    "\n",
    "1. Create a class called `Pachinko` that represents a simplified pachinko board of $k$ rows. The class should have a method called `drop_balls` that simulates dropping $n$ balls through the board and returns the list of $n$ integers, corresponding to the final position (bin index) of each ball.\n",
    "2. Create a function called `plot_pachinko`. It should take a Pachinko object and the number of balls $n$ as arguments. The function should simulate dropping $n$ balls through the board and return a histogram of the distribution of balls in all bins (you can use the `plot_hist` function from the previous exercise to return the histogram).\n",
    "3. Plot the histogram of the results of dropping 1000 balls through a pachinko board with $k=5, 10, 20$ rows. What shape does this distribution converge to as the number of rows increases?\n",
    "\n",
    "   *What exactly does this experiment have in common with means of multiple dice rolls?*\n",
    "   \n",
    "4. You encounter a 10-row pachinko machine. One game (equivalent of dropping one ball) costs you 10 yen. If the ball lands in either the first or last bin, you win 2500 yen. You can play as many times as you wish. Will this machine make the casino go bankrupt? Conduct a simulation to verify your prediction.\n",
    "\n",
    "### This exercise is worth one extra point"
   ]
  },
  {
   "cell_type": "code",
   "execution_count": 77,
   "id": "da9bc3d270c6c315",
   "metadata": {},
   "outputs": [],
   "source": [
    "class Pachinko:\n",
    "    def __init__(self, k):\n",
    "        self.rows = k\n",
    "    \n",
    "    def drop_balls(self, n):\n",
    "        pachinko_list = []\n",
    "        for i in range(n):\n",
    "            bin_value = 0\n",
    "            for j in range(self.rows):\n",
    "                bin_value += random.randint(0,1)\n",
    "            pachinko_list.append(bin_value)\n",
    "        return pachinko_list\n",
    "    "
   ]
  },
  {
   "cell_type": "code",
   "execution_count": 78,
   "id": "ebb7b2ba169fdab1",
   "metadata": {},
   "outputs": [
    {
     "data": {
      "image/png": "[encoded data removed]",
      "text/plain": [
       "<Figure size 640x480 with 1 Axes>"
      ]
     },
     "metadata": {},
     "output_type": "display_data"
    }
   ],
   "source": [
    "from helpers.plotting import plot_hist\n",
    "def plot_pachinko(Pachinko, n):\n",
    "    values = Pachinko.drop_balls(n)\n",
    "    return plot_hist(values)\n",
    "plot_pachinko(Pachinko(10), 10)"
   ]
  },
  {
   "cell_type": "markdown",
   "id": "caf6a4872ca870cf",
   "metadata": {},
   "source": [
    "## Python dunder methods\n",
    "\n",
    "We have already encountered some special methods in Python, such as `__init__(self, args)`, which is called only once when an object is created. These methods are called dunder methods (short for *double underscore*). They are used to define how objects of a class behave when they are used in conjunction with built-in Python functions. \n",
    "\n",
    "For example, the `__str__(self)` method is called when an object is passed to the `print` function. If you want to define how your object should be represented as a string, you can implement this method in your class. Here is an example:"
   ]
  },
  {
   "cell_type": "code",
   "execution_count": 79,
   "id": "d9dea6634025fcf4",
   "metadata": {},
   "outputs": [
    {
     "name": "stdout",
     "output_type": "stream",
     "text": [
      "This is a cow named Angelica:\n",
      "        ^__^\n",
      "        (oo)\\_______\n",
      "        (__)\\       )\\/\\\n",
      "            ||----w |\n",
      "            ||     ||\n"
     ]
    }
   ],
   "source": [
    "# Example of using __str__()\n",
    "\n",
    "class Cow:\n",
    "    def __init__(self, name):\n",
    "        self.name = name # Setting the name of the cow\n",
    "\n",
    "    def __str__(self):\n",
    "        cow_art = (\n",
    "        rf\"\"\"\n",
    "        This is a cow named {self.name}:\n",
    "        ^__^\n",
    "        (oo)\\_______\n",
    "        (__)\\       )\\/\\\n",
    "            ||----w |\n",
    "            ||     ||\n",
    "        \"\"\"\n",
    "        )\n",
    "        return cow_art.strip() # The strip() method is for aesthetic purposes\n",
    "    \n",
    "cow = Cow('Angelica')\n",
    "\n",
    "# The print function calls the __str__() method!\n",
    "print(cow)"
   ]
  },
  {
   "cell_type": "markdown",
   "id": "9aad4b16720f8590",
   "metadata": {},
   "source": [
    "Dunder methods are a powerful tool in Python that allows you to use your custom classes in any code that was prepared to work with built-in Python objects. You just have to implement the right dunder methods in your class.\n",
    "\n",
    "Other useful dunder methods:\n",
    "- `__call__(self)`: makes an object callable. It is executed when the object is called as a function.\n",
    "- `__add__(self, other)`: called by the `+` operator. It should return the sum of two objects (*whatever that means for your particular class*).\n",
    "- `__mul__(self, other)`: called by the `*` operator. It should return the product of two objects).\n",
    "- `__len__(self)`: called by the `len` function. It should return the length of the object).\n",
    "- `__eq__(self, other)`: called by the `==` operator. It should return `True` if two objects are equal.\n",
    "- `__getitem__(self, key)`: called to get an item from the object using square brackets. It should return the item at the given key (*useful if your class is a data-related*).\n",
    "\n",
    "There are many other dunder methods that you can implement in your classes. You can find a list of them [here](https://docs.python.org/3/reference/datamodel.html#special-method-names)."
   ]
  }
 ],
 "metadata": {
  "kernelspec": {
   "display_name": "Python 3 (ipykernel)",
   "language": "python",
   "name": "python3"
  },
  "language_info": {
   "codemirror_mode": {
    "name": "ipython",
    "version": 3
   },
   "file_extension": ".py",
   "mimetype": "text/x-python",
   "name": "python",
   "nbconvert_exporter": "python",
   "pygments_lexer": "ipython3",
   "version": "3.9.20"
  }
 },
 "nbformat": 4,
 "nbformat_minor": 5
}
