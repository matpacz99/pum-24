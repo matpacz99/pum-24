{
 "cells": [
  {
   "cell_type": "markdown",
   "id": "ad10fe87c955413f",
   "metadata": {},
   "source": [
    "# Lab 6: Visualizing the training process of neural networks. Hyperparameter tuning.\n",
    "\n",
    "In this lab, you will learn how to use [wandb](https://wandb.ai/) to visualize the training process of neural networks. We are going to build and train a feed-forward neural network for recognizing handwritten digits of the MNIST dataset. The training process will be visualized in the wandb dashboard, which will allow us to monitor the loss and accuracy of the model in real-time.\n",
    "\n",
    "---\n",
    "\n",
    "\n",
    "\n",
    "Feel free to create an account at [wandb.ai](https://wandb.ai/) before starting this lab.\n",
    "\n",
    "### A simple example of how to use wandb in a typical training loop is shown below:\n",
    "\n",
    "```python\n",
    "import wandb\n",
    "\n",
    "wandb.login() # Log in to your wandb account\n",
    "\n",
    "# Start a new run\n",
    "\n",
    "some_config = {\n",
    "    'learning_rate': 0.01,\n",
    "    'layer_1_size': 128,\n",
    "    'layer_2_size': 64,\n",
    "    'batch_size': 32\n",
    "} # This is just an example of a configuration dictionary, you can put anything you want here\n",
    "\n",
    "wandb.init(project='mnist-classifier', config=some_config) # start a new run and log parameters\n",
    "\n",
    "# Here you would prepare your data, and initialize the model, optimizer, etc.\n",
    "\n",
    "# Training loop\n",
    "for epoch in range(100):\n",
    "    ...\n",
    "    wandb.log({'loss': loss, 'accuracy': accuracy})\n",
    "    # This will send the loss and accuracy to wandb and you can visualize it in the dashboard\n",
    "\n",
    "# End of the run\n",
    "wandb.finish()\n",
    "```\n",
    "\n",
    "The most important part is the `wandb.log()` function, which sends the data to the wandb dashboard. You can log any metric you want, not just loss and accuracy. The value passed to the function must be a dictionary.\n"
   ]
  },
  {
   "cell_type": "markdown",
   "id": "50c701a2dc778ba9",
   "metadata": {},
   "source": [
    "## Exercise 1: Prepare data for training a mnist classifier (2 points)\n",
    "\n",
    "Before you start training a neural network, you need to prepare the data. In this exercise, you will prepare the MNIST dataset of handwritten digits for training a classifier. You should:\n",
    "\n",
    "1. Load the MNIST dataset using from `data/mnist_train.csv` and `data/mnist_test.csv` files.\n",
    "2. Normalize the data to the range [0, 1].\n",
    "3. Encode the labels using one-hot encoding.\n",
    "4. Create a PyTorch `Dataset` object for the training and test sets.\n",
    "5. Create a PyTorch `DataLoader` object for the training and test sets."
   ]
  },
  {
   "cell_type": "code",
   "execution_count": 37,
   "id": "e73671250bc707ad",
   "metadata": {},
   "outputs": [],
   "source": [
    "# Your code goes here\n",
    "import pandas\n",
    "import torch\n",
    "from sklearn.preprocessing import MinMaxScaler\n",
    "\n",
    "scaler = MinMaxScaler()\n",
    "\n",
    "train_data = pandas.read_csv(\"data/mnist-train.csv\")\n",
    "test_data = pandas.read_csv(\"data/mnist-test.csv\")\n",
    "\n",
    "y_train = train_data['label']\n",
    "y_test = test_data['label']\n",
    "x_train = train_data.drop('label', axis=1)\n",
    "x_test = test_data.drop('label', axis=1)\n",
    "\n",
    "x_train = x_train / 255\n",
    "x_test = x_test / 255\n",
    "\n",
    "y_train = pandas.get_dummies(y_train)\n",
    "y_test = pandas.get_dummies(y_test)\n",
    "\n",
    "x_train = torch.tensor(x_train.values, dtype=torch.float32)\n",
    "x_test = torch.tensor(x_test.values, dtype=torch.float32)\n",
    "\n",
    "y_train = torch.tensor(y_train.values, dtype=torch.float32)\n",
    "y_test = torch.tensor(y_test.values, dtype=torch.float32)\n",
    "\n",
    "train = torch.utils.data.TensorDataset(x_train, y_train)\n",
    "test = torch.utils.data.TensorDataset(x_test, y_test)\n",
    "\n",
    "train_loader = torch.utils.data.DataLoader(train, batch_size=32, shuffle=True)\n",
    "test_loader = torch.utils.data.DataLoader(test, batch_size=32, shuffle=False)"
   ]
  },
  {
   "cell_type": "code",
   "execution_count": 6,
   "id": "31d954a2-27c2-42a6-b062-36aff0240ead",
   "metadata": {},
   "outputs": [
    {
     "name": "stdout",
     "output_type": "stream",
     "text": [
      "torch.Size([32, 784])\n"
     ]
    }
   ],
   "source": [
    "x, y = next(iter(train_loader))\n",
    "print(x.shape)"
   ]
  },
  {
   "cell_type": "markdown",
   "id": "8d5dc7e06a81f23f",
   "metadata": {},
   "source": [
    "## Exercise 2: Prepare the architecture of the neural network (2 points)\n",
    "\n",
    "In this exercise, you will prepare the architecture of the neural network. You should:\n",
    "\n",
    "1. Create a neural network class that inherits from `torch.nn.Module`.\n",
    "2. The neural network should have at least one hidden layer.\n",
    "3. Use ReLU activation functions after each but the output layer.\n",
    "4. Use a softmax activation function in the output layer to get the probabilities of each class.\n",
    "\n",
    "**Feel free to experiment with the architecture of your network** - try adding more hidden layers, changing the number of neurons in each layer, etc. You can also add a dropout layer or some other regularization technique and see if it improves the performance of your model."
   ]
  },
  {
   "cell_type": "code",
   "execution_count": 2,
   "id": "e5310cb52194df1f",
   "metadata": {},
   "outputs": [],
   "source": [
    "# Your code goes here\n",
    "import torch.nn as nn\n",
    "class NeuralNetwork(nn.Module):\n",
    "    def __init__(self, hidden_size_1, hidden_size_2):\n",
    "        super(NeuralNetwork, self).__init__()\n",
    "        self.fc1 = nn.Linear(784, hidden_size_1)\n",
    "        self.fc2 = nn.Linear(hidden_size_1, hidden_size_2)\n",
    "        self.fc3 = nn.Linear(hidden_size_2, 10)\n",
    "        self.relu = nn.ReLU()\n",
    "        self.softmax = nn.Softmax(dim=1)\n",
    "    \n",
    "    def forward(self, x):\n",
    "        x = self.fc1(x)\n",
    "        x = self.relu(x)\n",
    "        x = self.fc2(x)\n",
    "        x = self.relu(x)\n",
    "        x = self.fc3(x)\n",
    "        x = self.softmax(x)\n",
    "\n",
    "        return x"
   ]
  },
  {
   "cell_type": "markdown",
   "id": "49e2efbd440294eb",
   "metadata": {},
   "source": [
    "## *Training PyTorch models on GPU\n",
    "\n",
    "**GPUs are optimized for performing matrix operations in parallel.** Although we call them \"graphics processing units\", they are actually very powerful processors that can be used for any kind of parallel computation, including training deep neural networks. In fact, data science is one of the most common applications of GPUs today, as can be seen by the revenue of companies like NVIDIA over the past few years. NVIDIA is a monopolist in the GPU market - in 2023, the company owned 92% of the data center GPU market share. As for 31 July, the 2024 revenue of NVIDIA was 60.92 billion USD, while the total revenue of 2020 was $10.92 billion. If someone benefits from the current deep learning hype, it is certainly NVIDIA.\n",
    "\n",
    "If you happen to have an NVIDIA GPU in your computer, you can use it to train your deep learning models, as PyTorch has excellent support for CUDA, which is NVIDIA's parallel computing API. To train a model on GPU, you need to explicitly tell PyTorch to move the model and the data to the GPU. \n",
    "\n",
    "Here is an example training loop that uses the GPU:\n",
    "\n",
    "```python\n",
    "device = torch.device('cuda' if torch.cuda.is_available() else 'cpu')   # Check if a GPU is available\n",
    "\n",
    "# Initialize the model and move it to the GPU\n",
    "model = SomeNeuralNetwork().to(device)   # Move the model to the GPU\n",
    "\n",
    "for epoch in range(100):\n",
    "    for batch in data_loader:\n",
    "        X, y = batch\n",
    "        X, y = X.to(device), y.to(device)   # Move the tensors to GPU\n",
    "        \n",
    "        y_pred = model(X)   # Perform a forward pass (on the GPU)\n",
    "        loss = criterion(y_pred, y)   # Compute the loss (still on the GPU)\n",
    "        \n",
    "        ...  # The rest of the training loop\n",
    "        \n",
    "        y_pred = y_pred.detach().cpu()   # Move the predictions back to the CPU to do anything else with them\n",
    "```\n",
    "\n",
    "Note that **the model and all the tensors it uses for computation should be moved to the GPU**. You can do this by calling the `.to(device)` method on the model and the data tensors. If you want to move the data back to the CPU (to process it further, calculate metrics, visualize), you call the `.cpu()` method on the tensor.\n",
    "\n",
    "**Doing calculations on the GPU, you should be wary of few things:**\n",
    "\n",
    "* **The GPU has a limited amount of memory**, so you should be careful not to run out of memory. A typical graphics card has a few gigabytes of memory, so you should be fine with most models and datasets. However, moving very large tensors to the GPU can cause out-of-memory errors. That's one of the reasons why we use a dataloader and process the data in batches.\n",
    "* While the GPU is much faster than the CPU for large matrix operations, **transferring data between the CPU and the GPU is slow**. Therefore, it is best to minimize the number of data transfers between the CPU and the GPU."
   ]
  },
  {
   "cell_type": "markdown",
   "id": "e94574b231d68216",
   "metadata": {},
   "source": [
    "## Exercise 3: Prepare the training loop (2 points)\n",
    "\n",
    "In this exercise, you will prepare the training loop. You should:\n",
    "\n",
    "1. Initialize the neural network.\n",
    "2. Define the loss function (CrossEntropyLoss) and the optimizer (Adam).\n",
    "3. Pass a dictionary with the configuration to wandb. This dictionary should contain all the hyperparameters of our model, including the learning rate, the size of the hidden layers, batch size, etc.\n",
    "4. Train the neural network. Each epoch should consist of a training and validation phase. You should log the loss and accuracy of the training and validation sets using wandb.\n",
    "5. Open you project at [wandb.ai](https://wandb.ai/) and see how cool it is!\n",
    "\n",
    "### Saving and loading the model\n",
    "As training can take some time, it is a good idea to save the model's state dictionary (its learned weights) to a file after training. You can do this with the following code:\n",
    "\n",
    "    torch.save(vae.state_dict(), 'vae.pth')\n",
    "    \n",
    "To load the model from the file, you can use the following code:\n",
    "\n",
    "    vae.load_state_dict(torch.load('vae.pth'))"
   ]
  },
  {
   "cell_type": "code",
   "execution_count": 3,
   "id": "d558333aa5fa0bcb",
   "metadata": {},
   "outputs": [],
   "source": [
    "# training loop\n",
    "import wandb\n",
    "\n",
    "def train(model, train_loader, val_loader, epochs=50):\n",
    "\n",
    "    wandb.login()\n",
    "    wandb.init(project='mnist-classifier2', config={'learning_rate': 0.001, 'batch_size': 32, 'layer_1_size': 128, 'layer_2_size': 64})\n",
    "    optimizer = torch.optim.Adam(model.parameters(), lr=0.001)\n",
    "    loss = nn.CrossEntropyLoss()\n",
    "    \n",
    "    train_loss_history = []\n",
    "    val_loss_history = []\n",
    "    \n",
    "    for epoch in range(epochs):\n",
    "        model.train()   # set the model to training mode (some layers may behave differently in training and evaluation)\n",
    "        train_loss = 0  # this variable will accumulate the training loss\n",
    "        \n",
    "        for X_batch, y_batch in train_loader:   # load data batch-by-batch\n",
    "            optimizer.zero_grad()   # clear the gradients\n",
    "            y_pred = model(X_batch)  # forward pass\n",
    "            batch_loss = loss(y_pred, y_batch) # compute the loss\n",
    "            batch_loss.backward()   # compute the gradients\n",
    "            optimizer.step()    # update the weights\n",
    "            \n",
    "            train_loss += batch_loss.item() # accumulate training loss\n",
    "        \n",
    "        train_loss = train_loss / len(train_loader) # compute the average loss\n",
    "        train_loss_history.append(train_loss)   # save the loss for plotting\n",
    "        print(f'Epoch: {epoch}')\n",
    "        print(f'Train loss: {train_loss}')\n",
    "        wandb.log({'train_loss': train_loss})\n",
    "                  \n",
    "        model.eval()    # set the model to evaluation mode\n",
    "        val_loss = 0    # this variable will accumulate the validation loss\n",
    "        \n",
    "        for X_batch, y_batch in val_loader:\n",
    "            \n",
    "            y_pred = model(X_batch)\n",
    "            val_loss += loss(y_pred, y_batch).item()    # accumulate validation loss\n",
    "            \n",
    "        val_loss = val_loss / len(val_loader)\n",
    "        val_loss_history.append(val_loss)   # save the loss for plotting\n",
    "        print(f'Validation loss: {val_loss}')\n",
    "        wandb.log({'val_loss': val_loss})\n",
    "        \n",
    "    return model, train_loss_history, val_loss_history\n",
    "\n"
   ]
  },
  {
   "cell_type": "code",
   "execution_count": 5,
   "id": "d8772e8b-4a53-42b2-af42-380b12ebc5b4",
   "metadata": {},
   "outputs": [
    {
     "name": "stderr",
     "output_type": "stream",
     "text": [
      "\u001b[34m\u001b[1mwandb\u001b[0m: Using wandb-core as the SDK backend.  Please refer to https://wandb.me/wandb-core for more information.\n",
      "\u001b[34m\u001b[1mwandb\u001b[0m: Currently logged in as: \u001b[33mmatpacz\u001b[0m (\u001b[33mmatpacz-uniwersytet-jagiellonski\u001b[0m). Use \u001b[1m`wandb login --relogin`\u001b[0m to force relogin\n"
     ]
    },
    {
     "data": {
      "text/html": [
       "Tracking run with wandb version 0.18.7"
      ],
      "text/plain": [
       "<IPython.core.display.HTML object>"
      ]
     },
     "metadata": {},
     "output_type": "display_data"
    },
    {
     "data": {
      "text/html": [
       "Run data is saved locally in <code>/home/mpacz/Documents/pum-24/wandb/run-20250128_004221-ermjn7s0</code>"
      ],
      "text/plain": [
       "<IPython.core.display.HTML object>"
      ]
     },
     "metadata": {},
     "output_type": "display_data"
    },
    {
     "data": {
      "text/html": [
       "Syncing run <strong><a href='https://wandb.ai/matpacz-uniwersytet-jagiellonski/mnist-classifier2/runs/ermjn7s0' target=\"_blank\">dainty-moon-3</a></strong> to <a href='https://wandb.ai/matpacz-uniwersytet-jagiellonski/mnist-classifier2' target=\"_blank\">Weights & Biases</a> (<a href='https://wandb.me/developer-guide' target=\"_blank\">docs</a>)<br/>"
      ],
      "text/plain": [
       "<IPython.core.display.HTML object>"
      ]
     },
     "metadata": {},
     "output_type": "display_data"
    },
    {
     "data": {
      "text/html": [
       " View project at <a href='https://wandb.ai/matpacz-uniwersytet-jagiellonski/mnist-classifier2' target=\"_blank\">https://wandb.ai/matpacz-uniwersytet-jagiellonski/mnist-classifier2</a>"
      ],
      "text/plain": [
       "<IPython.core.display.HTML object>"
      ]
     },
     "metadata": {},
     "output_type": "display_data"
    },
    {
     "data": {
      "text/html": [
       " View run at <a href='https://wandb.ai/matpacz-uniwersytet-jagiellonski/mnist-classifier2/runs/ermjn7s0' target=\"_blank\">https://wandb.ai/matpacz-uniwersytet-jagiellonski/mnist-classifier2/runs/ermjn7s0</a>"
      ],
      "text/plain": [
       "<IPython.core.display.HTML object>"
      ]
     },
     "metadata": {},
     "output_type": "display_data"
    },
    {
     "name": "stdout",
     "output_type": "stream",
     "text": [
      "Epoch: 0\n",
      "Train loss: 1.5862582823435465\n",
      "Validation loss: 1.5242812801092958\n",
      "Epoch: 1\n",
      "Train loss: 1.5188249957402546\n",
      "Validation loss: 1.5115248048648287\n",
      "Epoch: 2\n",
      "Train loss: 1.504740828259786\n",
      "Validation loss: 1.502287559235058\n",
      "Epoch: 3\n",
      "Train loss: 1.4966837112426759\n",
      "Validation loss: 1.502291969597911\n",
      "Epoch: 4\n",
      "Train loss: 1.4917688700993856\n",
      "Validation loss: 1.497456747883806\n",
      "Epoch: 5\n",
      "Train loss: 1.488281351407369\n",
      "Validation loss: 1.4920762259358415\n",
      "Epoch: 6\n",
      "Train loss: 1.485109108352661\n",
      "Validation loss: 1.4883113570106676\n",
      "Epoch: 7\n",
      "Train loss: 1.4828729829152425\n",
      "Validation loss: 1.4887788112932883\n",
      "Epoch: 8\n",
      "Train loss: 1.4816142007191977\n",
      "Validation loss: 1.4900739604291824\n",
      "Epoch: 9\n",
      "Train loss: 1.481253342628479\n",
      "Validation loss: 1.4890457985881038\n",
      "Epoch: 10\n",
      "Train loss: 1.4796527337392171\n",
      "Validation loss: 1.4889540539001123\n",
      "Epoch: 11\n",
      "Train loss: 1.4783870859146118\n",
      "Validation loss: 1.4917353475436617\n",
      "Epoch: 12\n",
      "Train loss: 1.4780708513259888\n",
      "Validation loss: 1.4891317271576903\n",
      "Epoch: 13\n",
      "Train loss: 1.4770001991907755\n",
      "Validation loss: 1.4867992820069431\n",
      "Epoch: 14\n",
      "Train loss: 1.476654177792867\n",
      "Validation loss: 1.488261079635864\n",
      "Epoch: 15\n",
      "Train loss: 1.4755928173065185\n",
      "Validation loss: 1.484693465522303\n",
      "Epoch: 16\n",
      "Train loss: 1.4756734773000082\n",
      "Validation loss: 1.4889294286124624\n",
      "Epoch: 17\n",
      "Train loss: 1.4757009092966715\n",
      "Validation loss: 1.4855745436665349\n",
      "Epoch: 18\n",
      "Train loss: 1.4747639879226684\n",
      "Validation loss: 1.485305975039546\n",
      "Epoch: 19\n",
      "Train loss: 1.4747932366053262\n",
      "Validation loss: 1.4856277742324926\n",
      "Epoch: 20\n",
      "Train loss: 1.4741671940485637\n",
      "Validation loss: 1.4856994418671337\n",
      "Epoch: 21\n",
      "Train loss: 1.473857601737976\n",
      "Validation loss: 1.488762601876792\n",
      "Epoch: 22\n",
      "Train loss: 1.4735875039418538\n",
      "Validation loss: 1.484294317020014\n",
      "Epoch: 23\n",
      "Train loss: 1.4728461681365967\n",
      "Validation loss: 1.4892642513250771\n",
      "Epoch: 24\n",
      "Train loss: 1.4730680517832437\n",
      "Validation loss: 1.4849455390875332\n",
      "Epoch: 25\n",
      "Train loss: 1.472655145517985\n",
      "Validation loss: 1.48414451588457\n",
      "Epoch: 26\n",
      "Train loss: 1.4724723871866863\n",
      "Validation loss: 1.4875077744261525\n",
      "Epoch: 27\n",
      "Train loss: 1.4726130193710327\n",
      "Validation loss: 1.4858580907693686\n",
      "Epoch: 28\n",
      "Train loss: 1.472720778465271\n",
      "Validation loss: 1.4841486287954897\n",
      "Epoch: 29\n",
      "Train loss: 1.4721897262573242\n",
      "Validation loss: 1.4848631247163961\n",
      "Epoch: 30\n",
      "Train loss: 1.472899229812622\n",
      "Validation loss: 1.4857438745590064\n",
      "Epoch: 31\n",
      "Train loss: 1.47152299118042\n",
      "Validation loss: 1.483811830179379\n",
      "Epoch: 32\n",
      "Train loss: 1.4715394308725993\n",
      "Validation loss: 1.4865653183513556\n",
      "Epoch: 33\n",
      "Train loss: 1.4716791049957276\n",
      "Validation loss: 1.4866893954170397\n",
      "Epoch: 34\n",
      "Train loss: 1.4713876576105753\n",
      "Validation loss: 1.4871975716691428\n",
      "Epoch: 35\n",
      "Train loss: 1.4709632967631021\n",
      "Validation loss: 1.4869987199100823\n",
      "Epoch: 36\n",
      "Train loss: 1.4712324312210083\n",
      "Validation loss: 1.4851815643401953\n",
      "Epoch: 37\n",
      "Train loss: 1.4701496716181437\n",
      "Validation loss: 1.485259570252781\n",
      "Epoch: 38\n",
      "Train loss: 1.4704590098698933\n",
      "Validation loss: 1.4868540935242138\n",
      "Epoch: 39\n",
      "Train loss: 1.4717354707717896\n",
      "Validation loss: 1.4836291706980989\n",
      "Epoch: 40\n",
      "Train loss: 1.4708692532221477\n",
      "Validation loss: 1.4823976004847323\n",
      "Epoch: 41\n",
      "Train loss: 1.4705274808247883\n",
      "Validation loss: 1.483541551870279\n",
      "Epoch: 42\n",
      "Train loss: 1.4697762262980143\n",
      "Validation loss: 1.4831819176293028\n",
      "Epoch: 43\n",
      "Train loss: 1.4703238345464071\n",
      "Validation loss: 1.484315229300112\n",
      "Epoch: 44\n",
      "Train loss: 1.4704822392781576\n",
      "Validation loss: 1.4833275331095004\n",
      "Epoch: 45\n",
      "Train loss: 1.4693711189905803\n",
      "Validation loss: 1.482443369615573\n",
      "Epoch: 46\n",
      "Train loss: 1.4710833822250367\n",
      "Validation loss: 1.4825060276177744\n",
      "Epoch: 47\n",
      "Train loss: 1.4706318580627442\n",
      "Validation loss: 1.4824410798831489\n",
      "Epoch: 48\n",
      "Train loss: 1.4697946042378744\n",
      "Validation loss: 1.4844519143668227\n",
      "Epoch: 49\n",
      "Train loss: 1.4702420630137125\n",
      "Validation loss: 1.48909181299301\n"
     ]
    }
   ],
   "source": [
    "model = NeuralNetwork(128, 64)\n",
    "\n",
    "model, train_metrics, val_metrics = train(model, train_loader, test_loader)"
   ]
  },
  {
   "cell_type": "markdown",
   "id": "a77990efcffab975",
   "metadata": {},
   "source": [
    "## Exercise 4: Easy hyperparameter tuning with wandb (2 points)\n",
    "\n",
    "Wandb allows you to perform hyperparameter tuning by automatically creating multiple runs with different hyperparameters and logging the performance of each run. Below is a brief instruction to `wandb` hyperparameter tuning, but you are more than welcome to find more information in the [official wandb guide](https://docs.wandb.ai/guides/sweeps/).\n",
    "\n",
    "Your task is to use wandb to perform hyperparameter tuning of the neural network, trying different values of the learning rate, batch size, and the size of the hidden layers. You can use the following hyperparameters:\n",
    "\n",
    "First, we need to define a dictionary with the hyperparameters that we want to tune. For example:\n",
    "\n",
    "```python\n",
    "parameters = {\n",
    "    'learning_rate': {'values': [0.01, 0.001, 0.0001]},\n",
    "    'batch_size': {'values': [32, 64, 128]},\n",
    "    'layer_1_size': {'values': [64, 128, 256]},\n",
    "    'layer_2_size': {'values': [32, 64, 128]}\n",
    "}\n",
    "```\n",
    "\n",
    "Then we need to create a dictionary with the configuration of the run:\n",
    "\n",
    "```python\n",
    "sweep_config = {\n",
    "    'name': 'mnist-sweep',\n",
    "    'method': 'grid',   # grid search, you can also try 'random' or 'bayes'\n",
    "    'metric': {'goal': 'minimize', 'name': 'val_loss'},\n",
    "    'parameters': parameters,   # that's the dictionary with the hyperparameters\n",
    "}\n",
    "```\n",
    "\n",
    "Finally, we can use the `wandb.sweep` function to perform hyperparameter tuning:\n",
    "\n",
    "```python\n",
    "sweep_id = wandb.sweep(sweep_config, project='mnist-classifier')\n",
    "```\n",
    "\n",
    "After that, we can finally run the sweep:\n",
    "\n",
    "```python\n",
    "wandb.agent(sweep_id, function=train)\n",
    "```\n",
    "where `train` is a function that trains the model and logs the metrics to wandb. This function should take a `config` argument, which will contain the hyperparameters of the run. That is how wandb knows which hyperparameters to tune.\n",
    "\n",
    "1. Rewrite the VAE training loop into a function that takes a single dictionary `parameters` as an argument, initializes the model, optimizer, and criterion, and trains the model for a fixed number of epochs. The function should log the loss and accuracy of the training and validation sets to wandb.\n",
    "2. Create a dictionary with the hyperparameters that you want to tune.\n",
    "3. Create a sweep configuration dictionary.\n",
    "4. Run the sweep and monitor the results in the wandb dashboard."
   ]
  },
  {
   "cell_type": "code",
   "execution_count": 41,
   "id": "d35f63fb35d55201",
   "metadata": {},
   "outputs": [],
   "source": [
    "import wandb\n",
    "\n",
    "def train(parameters, model, train_loader, val_loader, epochs = 50):\n",
    "\n",
    "    wandb.login()\n",
    "    wandb.init(project='mnist-classifier', config=parameters)\n",
    "    optimizer = torch.optim.Adam(model.parameters(), lr=0.01)\n",
    "    loss = nn.CrossEntropyLoss()\n",
    "    \n",
    "    train_loss_history = []\n",
    "    val_loss_history = []\n",
    "    \n",
    "    for epoch in range(epochs):\n",
    "        model.train()   # set the model to training mode (some layers may behave differently in training and evaluation)\n",
    "        train_loss = 0  # this variable will accumulate the training loss\n",
    "        \n",
    "        for X_batch, y_batch in train_loader:   # load data batch-by-batch\n",
    "            optimizer.zero_grad()   # clear the gradients\n",
    "            y_pred = model(X_batch)  # forward pass\n",
    "            batch_loss = loss(y_pred, y_batch) # compute the loss\n",
    "            batch_loss.backward()   # compute the gradients\n",
    "            optimizer.step()    # update the weights\n",
    "            \n",
    "            train_loss += batch_loss.item() # accumulate training loss\n",
    "        \n",
    "        train_loss = train_loss / len(train_loader) # compute the average loss\n",
    "        train_loss_history.append(train_loss)   # save the loss for plotting\n",
    "        print(f'Epoch: {epoch}')\n",
    "        print(f'Train loss: {train_loss}')\n",
    "        wandb.log({'train_loss': train_loss})\n",
    "                  \n",
    "        model.eval()    # set the model to evaluation mode\n",
    "        val_loss = 0    # this variable will accumulate the validation loss\n",
    "        \n",
    "        for X_batch, y_batch in val_loader:\n",
    "            \n",
    "            y_pred = model(X_batch)\n",
    "            val_loss += loss(y_pred, y_batch).item()    # accumulate validation loss\n",
    "            \n",
    "        val_loss = val_loss / len(val_loader)\n",
    "        val_loss_history.append(val_loss)   # save the loss for plotting\n",
    "        print(f'Validation loss: {val_loss}')\n",
    "        wandb.log({'val_loss': val_loss})\n",
    "        \n",
    "    return model, train_loss_history, val_loss_history"
   ]
  },
  {
   "cell_type": "code",
   "execution_count": 42,
   "id": "b896fac35c516b81",
   "metadata": {},
   "outputs": [
    {
     "name": "stderr",
     "output_type": "stream",
     "text": [
      "\u001b[34m\u001b[1mwandb\u001b[0m: \u001b[33mWARNING\u001b[0m Calling wandb.login() after wandb.init() has no effect.\n"
     ]
    },
    {
     "name": "stdout",
     "output_type": "stream",
     "text": [
      "Create sweep with ID: z5kot8sm\n",
      "Sweep URL: https://wandb.ai/matpacz-uniwersytet-jagiellonski/mnist-classifier/sweeps/z5kot8sm\n"
     ]
    },
    {
     "data": {
      "text/html": [
       "Changes to your `wandb` environment variables will be ignored because your `wandb` session has already started. For more information on how to modify your settings with `wandb.init()` arguments, please refer to <a href='https://wandb.me/wandb-init' target=\"_blank\">the W&B docs</a>."
      ],
      "text/plain": [
       "<IPython.core.display.HTML object>"
      ]
     },
     "metadata": {},
     "output_type": "display_data"
    },
    {
     "data": {
      "text/html": [
       "Finishing last run (ID:6l7jzkm2) before initializing another..."
      ],
      "text/plain": [
       "<IPython.core.display.HTML object>"
      ]
     },
     "metadata": {},
     "output_type": "display_data"
    },
    {
     "data": {
      "application/vnd.jupyter.widget-view+json": {
       "model_id": "",
       "version_major": 2,
       "version_minor": 0
      },
      "text/plain": [
       "VBox(children=(Label(value='0.005 MB of 0.005 MB uploaded\\r'), FloatProgress(value=1.0, max=1.0)))"
      ]
     },
     "metadata": {},
     "output_type": "display_data"
    },
    {
     "data": {
      "text/html": [
       " View run <strong style=\"color:#cdcd00\">happy-plasma-49</strong> at: <a href='https://wandb.ai/matpacz-uniwersytet-jagiellonski/mnist-classifier/runs/6l7jzkm2' target=\"_blank\">https://wandb.ai/matpacz-uniwersytet-jagiellonski/mnist-classifier/runs/6l7jzkm2</a><br/> View project at: <a href='https://wandb.ai/matpacz-uniwersytet-jagiellonski/mnist-classifier' target=\"_blank\">https://wandb.ai/matpacz-uniwersytet-jagiellonski/mnist-classifier</a><br/>Synced 5 W&B file(s), 0 media file(s), 0 artifact file(s) and 0 other file(s)"
      ],
      "text/plain": [
       "<IPython.core.display.HTML object>"
      ]
     },
     "metadata": {},
     "output_type": "display_data"
    },
    {
     "data": {
      "text/html": [
       "Find logs at: <code>./wandb/run-20250128_114118-6l7jzkm2/logs</code>"
      ],
      "text/plain": [
       "<IPython.core.display.HTML object>"
      ]
     },
     "metadata": {},
     "output_type": "display_data"
    },
    {
     "data": {
      "text/html": [
       "Successfully finished last run (ID:6l7jzkm2). Initializing new run:<br/>"
      ],
      "text/plain": [
       "<IPython.core.display.HTML object>"
      ]
     },
     "metadata": {},
     "output_type": "display_data"
    },
    {
     "data": {
      "text/html": [
       "Tracking run with wandb version 0.18.7"
      ],
      "text/plain": [
       "<IPython.core.display.HTML object>"
      ]
     },
     "metadata": {},
     "output_type": "display_data"
    },
    {
     "data": {
      "text/html": [
       "Run data is saved locally in <code>/home/mpacz/Documents/pum-24/wandb/run-20250128_114148-vl3dkx8q</code>"
      ],
      "text/plain": [
       "<IPython.core.display.HTML object>"
      ]
     },
     "metadata": {},
     "output_type": "display_data"
    },
    {
     "data": {
      "text/html": [
       "Syncing run <strong><a href='https://wandb.ai/matpacz-uniwersytet-jagiellonski/mnist-classifier/runs/vl3dkx8q' target=\"_blank\">sage-cosmos-51</a></strong> to <a href='https://wandb.ai/matpacz-uniwersytet-jagiellonski/mnist-classifier' target=\"_blank\">Weights & Biases</a> (<a href='https://wandb.me/developer-guide' target=\"_blank\">docs</a>)<br/>"
      ],
      "text/plain": [
       "<IPython.core.display.HTML object>"
      ]
     },
     "metadata": {},
     "output_type": "display_data"
    },
    {
     "data": {
      "text/html": [
       " View project at <a href='https://wandb.ai/matpacz-uniwersytet-jagiellonski/mnist-classifier' target=\"_blank\">https://wandb.ai/matpacz-uniwersytet-jagiellonski/mnist-classifier</a>"
      ],
      "text/plain": [
       "<IPython.core.display.HTML object>"
      ]
     },
     "metadata": {},
     "output_type": "display_data"
    },
    {
     "data": {
      "text/html": [
       " View run at <a href='https://wandb.ai/matpacz-uniwersytet-jagiellonski/mnist-classifier/runs/vl3dkx8q' target=\"_blank\">https://wandb.ai/matpacz-uniwersytet-jagiellonski/mnist-classifier/runs/vl3dkx8q</a>"
      ],
      "text/plain": [
       "<IPython.core.display.HTML object>"
      ]
     },
     "metadata": {},
     "output_type": "display_data"
    },
    {
     "name": "stdout",
     "output_type": "stream",
     "text": [
      "Epoch: 0\n",
      "Train loss: 1.599277462387085\n",
      "Validation loss: 1.567194710143458\n",
      "Epoch: 1\n",
      "Train loss: 1.5786756189346314\n",
      "Validation loss: 1.5774723059072282\n",
      "Epoch: 2\n",
      "Train loss: 1.5856869581858317\n",
      "Validation loss: 1.5636947733906512\n",
      "Epoch: 3\n",
      "Train loss: 1.5828501492818197\n",
      "Validation loss: 1.5657563106701398\n",
      "Epoch: 4\n",
      "Train loss: 1.5782072359720867\n",
      "Validation loss: 1.5836695082271441\n",
      "Epoch: 5\n",
      "Train loss: 1.5870781242370606\n",
      "Validation loss: 1.6014746107613316\n",
      "Epoch: 6\n",
      "Train loss: 1.5931171375274658\n",
      "Validation loss: 1.589584624424529\n",
      "Epoch: 7\n",
      "Train loss: 1.5948463171641032\n",
      "Validation loss: 1.6015061376193842\n",
      "Epoch: 8\n",
      "Train loss: 1.5850433432261148\n",
      "Validation loss: 1.5617094127514872\n",
      "Epoch: 9\n",
      "Train loss: 1.5958959768931071\n",
      "Validation loss: 1.5834303766774673\n",
      "Epoch: 10\n",
      "Train loss: 1.596614890797933\n",
      "Validation loss: 1.573565199352301\n",
      "Epoch: 11\n",
      "Train loss: 1.6098372259775797\n",
      "Validation loss: 1.5750546874329685\n",
      "Epoch: 12\n",
      "Train loss: 1.654194457880656\n",
      "Validation loss: 1.6465889672501781\n",
      "Epoch: 13\n",
      "Train loss: 1.59908099638621\n",
      "Validation loss: 1.610439903058183\n",
      "Epoch: 14\n",
      "Train loss: 1.592229343032837\n",
      "Validation loss: 1.5773766737776442\n",
      "Epoch: 15\n",
      "Train loss: 1.59255338567098\n",
      "Validation loss: 1.5936440564573002\n",
      "Epoch: 16\n",
      "Train loss: 1.5951220899581908\n",
      "Validation loss: 1.5941124381348728\n",
      "Epoch: 17\n",
      "Train loss: 1.5949462668736776\n",
      "Validation loss: 1.5784284839995752\n",
      "Epoch: 18\n",
      "Train loss: 1.5741565732955933\n",
      "Validation loss: 1.575302391006543\n",
      "Epoch: 19\n",
      "Train loss: 1.5801865158081054\n",
      "Validation loss: 1.5574983529770337\n",
      "Epoch: 20\n",
      "Train loss: 1.5741942317962647\n",
      "Validation loss: 1.5817866683387147\n",
      "Epoch: 21\n",
      "Train loss: 1.5854618077596028\n",
      "Validation loss: 1.5879209681440847\n",
      "Epoch: 22\n",
      "Train loss: 1.6312509666442871\n",
      "Validation loss: 1.5933311907247232\n",
      "Epoch: 23\n",
      "Train loss: 1.59906199537913\n",
      "Validation loss: 1.6028333193958757\n",
      "Epoch: 24\n",
      "Train loss: 1.5814099507013957\n",
      "Validation loss: 1.576610604414163\n",
      "Epoch: 25\n",
      "Train loss: 1.5935002484639487\n",
      "Validation loss: 1.598333105873376\n",
      "Epoch: 26\n",
      "Train loss: 1.5949093074162801\n",
      "Validation loss: 1.5640052469393697\n",
      "Epoch: 27\n",
      "Train loss: 1.5751342527389527\n",
      "Validation loss: 1.5755657483213625\n",
      "Epoch: 28\n",
      "Train loss: 1.5929126401901246\n",
      "Validation loss: 1.6049794747044865\n",
      "Epoch: 29\n",
      "Train loss: 1.600517398707072\n",
      "Validation loss: 1.593037331447053\n",
      "Epoch: 30\n",
      "Train loss: 1.5804915911356607\n",
      "Validation loss: 1.5572896799721276\n",
      "Epoch: 31\n",
      "Train loss: 1.5749671365737914\n",
      "Validation loss: 1.5658022024380132\n",
      "Epoch: 32\n",
      "Train loss: 1.5812205061594644\n",
      "Validation loss: 1.5801427912788268\n",
      "Epoch: 33\n",
      "Train loss: 1.5825698996861777\n",
      "Validation loss: 1.606437327381902\n",
      "Epoch: 34\n",
      "Train loss: 1.6046881096522014\n",
      "Validation loss: 1.5961580680201228\n",
      "Epoch: 35\n",
      "Train loss: 1.6082333841959635\n",
      "Validation loss: 1.5719048893108916\n",
      "Epoch: 36\n",
      "Train loss: 1.5798949848810833\n",
      "Validation loss: 1.634101460536067\n",
      "Epoch: 37\n",
      "Train loss: 1.5912989126841228\n",
      "Validation loss: 1.5709956126472058\n",
      "Epoch: 38\n",
      "Train loss: 1.5885731994628907\n",
      "Validation loss: 1.5580803270157153\n",
      "Epoch: 39\n",
      "Train loss: 1.5686758040746054\n",
      "Validation loss: 1.575866259705906\n",
      "Epoch: 40\n",
      "Train loss: 1.5741844495137534\n",
      "Validation loss: 1.593330672373787\n",
      "Epoch: 41\n",
      "Train loss: 1.5765279644648234\n",
      "Validation loss: 1.5663852569775079\n",
      "Epoch: 42\n",
      "Train loss: 1.5731857782363892\n",
      "Validation loss: 1.5693022648747357\n",
      "Epoch: 43\n",
      "Train loss: 1.5865473299662272\n",
      "Validation loss: 1.6435343263248285\n",
      "Epoch: 44\n",
      "Train loss: 1.5894012893040974\n",
      "Validation loss: 1.5617925130521146\n",
      "Epoch: 45\n",
      "Train loss: 1.5743247930526734\n",
      "Validation loss: 1.5764656550587175\n",
      "Epoch: 46\n",
      "Train loss: 1.5796015906651815\n",
      "Validation loss: 1.6420141119545641\n",
      "Epoch: 47\n",
      "Train loss: 1.6015057158788044\n",
      "Validation loss: 1.5684709548950195\n",
      "Epoch: 48\n",
      "Train loss: 1.586251622136434\n",
      "Validation loss: 1.5820570030151464\n"
     ]
    },
    {
     "name": "stderr",
     "output_type": "stream",
     "text": [
      "\u001b[34m\u001b[1mwandb\u001b[0m: \u001b[33mWARNING\u001b[0m Calling wandb.login() after wandb.init() has no effect.\n"
     ]
    },
    {
     "name": "stdout",
     "output_type": "stream",
     "text": [
      "Epoch: 49\n",
      "Train loss: 1.582739376449585\n",
      "Validation loss: 1.584648189072411\n"
     ]
    },
    {
     "ename": "Exception",
     "evalue": "function parameter must be callable!",
     "output_type": "error",
     "traceback": [
      "\u001b[0;31m---------------------------------------------------------------------------\u001b[0m",
      "\u001b[0;31mException\u001b[0m                                 Traceback (most recent call last)",
      "Cell \u001b[0;32mIn[42], line 19\u001b[0m\n\u001b[1;32m     10\u001b[0m sweep_config \u001b[38;5;241m=\u001b[39m {\n\u001b[1;32m     11\u001b[0m     \u001b[38;5;124m'\u001b[39m\u001b[38;5;124mname\u001b[39m\u001b[38;5;124m'\u001b[39m: \u001b[38;5;124m'\u001b[39m\u001b[38;5;124mmnist-sweep\u001b[39m\u001b[38;5;124m'\u001b[39m,\n\u001b[1;32m     12\u001b[0m     \u001b[38;5;124m'\u001b[39m\u001b[38;5;124mmethod\u001b[39m\u001b[38;5;124m'\u001b[39m: \u001b[38;5;124m'\u001b[39m\u001b[38;5;124mbayes\u001b[39m\u001b[38;5;124m'\u001b[39m,\n\u001b[0;32m   (...)\u001b[0m\n\u001b[1;32m     15\u001b[0m     \u001b[38;5;124m'\u001b[39m\u001b[38;5;124mparameters\u001b[39m\u001b[38;5;124m'\u001b[39m: parameters,\n\u001b[1;32m     16\u001b[0m }\n\u001b[1;32m     18\u001b[0m sweep_id \u001b[38;5;241m=\u001b[39m wandb\u001b[38;5;241m.\u001b[39msweep(sweep_config, project\u001b[38;5;241m=\u001b[39m\u001b[38;5;124m'\u001b[39m\u001b[38;5;124mmnist-classifier\u001b[39m\u001b[38;5;124m'\u001b[39m)    \u001b[38;5;66;03m# This will create a new sweep\u001b[39;00m\n\u001b[0;32m---> 19\u001b[0m \u001b[43mwandb\u001b[49m\u001b[38;5;241;43m.\u001b[39;49m\u001b[43magent\u001b[49m\u001b[43m(\u001b[49m\u001b[43msweep_id\u001b[49m\u001b[43m,\u001b[49m\u001b[43m \u001b[49m\u001b[43mfunction\u001b[49m\u001b[38;5;241;43m=\u001b[39;49m\u001b[43mtrain\u001b[49m\u001b[43m(\u001b[49m\u001b[43mparameters\u001b[49m\u001b[43m,\u001b[49m\u001b[43m \u001b[49m\u001b[43mmodel\u001b[49m\u001b[43m,\u001b[49m\u001b[43m \u001b[49m\u001b[43mtrain_loader\u001b[49m\u001b[43m,\u001b[49m\u001b[43m \u001b[49m\u001b[43mtest_loader\u001b[49m\u001b[43m)\u001b[49m\u001b[43m)\u001b[49m   \u001b[38;5;66;03m# This will start the hyperparameter tuning process\u001b[39;00m\n",
      "File \u001b[0;32m~/miniconda3/envs/pum-24/lib/python3.9/site-packages/wandb/wandb_agent.py:571\u001b[0m, in \u001b[0;36magent\u001b[0;34m(sweep_id, function, entity, project, count)\u001b[0m\n\u001b[1;32m    569\u001b[0m     wandb_sdk\u001b[38;5;241m.\u001b[39mwandb_login\u001b[38;5;241m.\u001b[39m_login(_silent\u001b[38;5;241m=\u001b[39m\u001b[38;5;28;01mTrue\u001b[39;00m)\n\u001b[1;32m    570\u001b[0m     \u001b[38;5;28;01mif\u001b[39;00m function:\n\u001b[0;32m--> 571\u001b[0m         \u001b[38;5;28;01mreturn\u001b[39;00m \u001b[43mpyagent\u001b[49m\u001b[43m(\u001b[49m\u001b[43msweep_id\u001b[49m\u001b[43m,\u001b[49m\u001b[43m \u001b[49m\u001b[43mfunction\u001b[49m\u001b[43m,\u001b[49m\u001b[43m \u001b[49m\u001b[43mentity\u001b[49m\u001b[43m,\u001b[49m\u001b[43m \u001b[49m\u001b[43mproject\u001b[49m\u001b[43m,\u001b[49m\u001b[43m \u001b[49m\u001b[43mcount\u001b[49m\u001b[43m)\u001b[49m\n\u001b[1;32m    572\u001b[0m     \u001b[38;5;28;01mreturn\u001b[39;00m run_agent(\n\u001b[1;32m    573\u001b[0m         sweep_id,\n\u001b[1;32m    574\u001b[0m         function\u001b[38;5;241m=\u001b[39mfunction,\n\u001b[0;32m   (...)\u001b[0m\n\u001b[1;32m    578\u001b[0m         count\u001b[38;5;241m=\u001b[39mcount,\n\u001b[1;32m    579\u001b[0m     )\n\u001b[1;32m    580\u001b[0m \u001b[38;5;28;01mfinally\u001b[39;00m:\n",
      "File \u001b[0;32m~/miniconda3/envs/pum-24/lib/python3.9/site-packages/wandb/agents/pyagent.py:348\u001b[0m, in \u001b[0;36mpyagent\u001b[0;34m(sweep_id, function, entity, project, count)\u001b[0m\n\u001b[1;32m    338\u001b[0m \u001b[38;5;250m\u001b[39m\u001b[38;5;124;03m\"\"\"Generic agent entrypoint, used for CLI or jupyter.\u001b[39;00m\n\u001b[1;32m    339\u001b[0m \n\u001b[1;32m    340\u001b[0m \u001b[38;5;124;03mArgs:\u001b[39;00m\n\u001b[0;32m   (...)\u001b[0m\n\u001b[1;32m    345\u001b[0m \u001b[38;5;124;03m    count (int, optional): the number of trials to run.\u001b[39;00m\n\u001b[1;32m    346\u001b[0m \u001b[38;5;124;03m\"\"\"\u001b[39;00m\n\u001b[1;32m    347\u001b[0m \u001b[38;5;28;01mif\u001b[39;00m \u001b[38;5;129;01mnot\u001b[39;00m \u001b[38;5;28mcallable\u001b[39m(function):\n\u001b[0;32m--> 348\u001b[0m     \u001b[38;5;28;01mraise\u001b[39;00m \u001b[38;5;167;01mException\u001b[39;00m(\u001b[38;5;124m\"\u001b[39m\u001b[38;5;124mfunction parameter must be callable!\u001b[39m\u001b[38;5;124m\"\u001b[39m)\n\u001b[1;32m    349\u001b[0m agent \u001b[38;5;241m=\u001b[39m Agent(\n\u001b[1;32m    350\u001b[0m     sweep_id,\n\u001b[1;32m    351\u001b[0m     function\u001b[38;5;241m=\u001b[39mfunction,\n\u001b[0;32m   (...)\u001b[0m\n\u001b[1;32m    354\u001b[0m     count\u001b[38;5;241m=\u001b[39mcount,\n\u001b[1;32m    355\u001b[0m )\n\u001b[1;32m    356\u001b[0m agent\u001b[38;5;241m.\u001b[39mrun()\n",
      "\u001b[0;31mException\u001b[0m: function parameter must be callable!"
     ]
    }
   ],
   "source": [
    "model = NeuralNetwork(64, 32)\n",
    "\n",
    "parameters = {\n",
    "    'learning_rate': {'values': [0.01, 0.001, 0.0001]},\n",
    "    'batch_size': {'values': [32, 64, 128]},\n",
    "    'layer_1_size': {'values': [64, 128, 256]},\n",
    "    'layer_2_size': {'values': [32, 64, 128]}\n",
    "}\n",
    "\n",
    "sweep_config = {\n",
    "    'name': 'mnist-sweep',\n",
    "    'method': 'bayes',\n",
    "    'metric': {'goal': 'maximize', 'name': 'accuracy'}, # if we want to maximize the accuracy\n",
    "    # remember to log the metric that you want to maximize or minimize!\n",
    "    'parameters': parameters,\n",
    "}\n",
    "\n",
    "sweep_id = wandb.sweep(sweep_config, project='mnist-classifier')    # This will create a new sweep\n",
    "wandb.agent(sweep_id, function=train(parameters, model, train_loader, test_loader))   # This will start the hyperparameter tuning process"
   ]
  }
 ],
 "metadata": {
  "kernelspec": {
   "display_name": "Python 3 (ipykernel)",
   "language": "python",
   "name": "python3"
  },
  "language_info": {
   "codemirror_mode": {
    "name": "ipython",
    "version": 3
   },
   "file_extension": ".py",
   "mimetype": "text/x-python",
   "name": "python",
   "nbconvert_exporter": "python",
   "pygments_lexer": "ipython3",
   "version": "3.9.20"
  }
 },
 "nbformat": 4,
 "nbformat_minor": 5
}
